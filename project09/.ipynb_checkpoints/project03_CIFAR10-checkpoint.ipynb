{
 "cells": [
  {
   "cell_type": "markdown",
   "id": "cbab827a",
   "metadata": {},
   "source": [
    "데이터 준비"
   ]
  },
  {
   "cell_type": "code",
   "execution_count": 2,
   "id": "d040cee2",
   "metadata": {},
   "outputs": [
    {
     "name": "stdout",
     "output_type": "stream",
     "text": [
      "Downloading data from https://www.cs.toronto.edu/~kriz/cifar-10-python.tar.gz\n",
      "170500096/170498071 [==============================] - 7s 0us/step\n",
      "170508288/170498071 [==============================] - 7s 0us/step\n",
      "전체 학습 데이터: (50000, 32, 32, 3) 레이블: (10000, 32, 32, 3)\n",
      "학습 데이터: (40000, 32, 32, 3) 레이블: (40000, 1)\n",
      "검증 데이터: (10000, 32, 32, 3) 레이블: (10000, 1)\n",
      "테스트 데이터: (10000, 32, 32, 3) 레이블: (10000, 1)\n"
     ]
    }
   ],
   "source": [
    "import matplotlib.pyplot as plt\n",
    "from sklearn.model_selection import train_test_split\n",
    "\n",
    "from tensorflow.keras import models, layers\n",
    "from tensorflow.keras.datasets import cifar10\n",
    "\n",
    "# 문제 3-1: cifar10 데이터셋을 로드하고, 훈련 데이터셋에서 20%를 검증 데이터셋으로 분리합니다.\n",
    "(train_data, train_labels), (test_data, test_labels) = cifar10.load_data()\n",
    "\n",
    "x_train, x_val, y_train, y_val = train_test_split(train_data,\n",
    "                                                  train_labels,\n",
    "                                                  test_size=0.2,\n",
    "                                                  shuffle=True,\n",
    "                                                  random_state=12)\n",
    "\n",
    "# 훈련, 검증, 테스트 데이터와 레이블 종류가 몇개인지 출력합니다.\n",
    "print(\"전체 학습 데이터: {} 레이블: {}\".format(train_data.shape, test_data.shape))\n",
    "print(\"학습 데이터: {} 레이블: {}\".format(x_train.shape, y_train.shape))\n",
    "print(\"검증 데이터: {} 레이블: {}\".format(x_val.shape, y_val.shape))\n",
    "print(\"테스트 데이터: {} 레이블: {}\".format(test_data.shape, test_labels.shape))\n"
   ]
  },
  {
   "cell_type": "markdown",
   "id": "b0659d40",
   "metadata": {},
   "source": [
    "모델 구성 및 컴파일"
   ]
  },
  {
   "cell_type": "code",
   "execution_count": 10,
   "id": "e391c234",
   "metadata": {},
   "outputs": [
    {
     "name": "stdout",
     "output_type": "stream",
     "text": [
      "Model: \"sequential_2\"\n",
      "_________________________________________________________________\n",
      "Layer (type)                 Output Shape              Param #   \n",
      "=================================================================\n",
      "dense1 (Dense)               (None, 128)               1280128   \n",
      "_________________________________________________________________\n",
      "batch_normalization_2 (Batch (None, 128)               512       \n",
      "_________________________________________________________________\n",
      "activation_2 (Activation)    (None, 128)               0         \n",
      "_________________________________________________________________\n",
      "dropout_2 (Dropout)          (None, 128)               0         \n",
      "_________________________________________________________________\n",
      "dense2 (Dense)               (None, 128)               16512     \n",
      "_________________________________________________________________\n",
      "batch_normalization_3 (Batch (None, 128)               512       \n",
      "_________________________________________________________________\n",
      "activation_3 (Activation)    (None, 128)               0         \n",
      "_________________________________________________________________\n",
      "dropout_3 (Dropout)          (None, 128)               0         \n",
      "_________________________________________________________________\n",
      "output (Dense)               (None, 46)                5934      \n",
      "=================================================================\n",
      "Total params: 1,303,598\n",
      "Trainable params: 1,303,086\n",
      "Non-trainable params: 512\n",
      "_________________________________________________________________\n"
     ]
    }
   ],
   "source": [
    "# 문제 2-3: 빠른 학습과 과대적합을 방지하기 위해 BatchNormalization과 Dropout을 적용한 딥러닝 모델을 구성합니다.\n",
    "# [[YOUR CODE]]\n",
    "model = models.Sequential()\n",
    "\n",
    "model.add(layers.Input(shape=(10000, ), name='input'))\n",
    "model.add(layers.Dense(128, name='dense1'))\n",
    "model.add(layers.BatchNormalization())\n",
    "model.add(layers.Activation('relu'))\n",
    "model.add(layers.Dropout(0.2))\n",
    "          \n",
    "model.add(layers.Dense(128, name='dense2'))\n",
    "model.add(layers.BatchNormalization())\n",
    "model.add(layers.Activation('relu'))\n",
    "model.add(layers.Dropout(0.2))\n",
    "          \n",
    "model.add(layers.Dense(46, activation='softmax', name='output'))\n",
    "model.summary()\n",
    "\n",
    "model.compile(optimizer='rmsprop',\n",
    "              loss='categorical_crossentropy',\n",
    "              metrics=['accuracy'])"
   ]
  },
  {
   "cell_type": "markdown",
   "id": "b9c9d604",
   "metadata": {},
   "source": [
    "모델 학습"
   ]
  },
  {
   "cell_type": "code",
   "execution_count": 11,
   "id": "9644db80",
   "metadata": {},
   "outputs": [
    {
     "name": "stdout",
     "output_type": "stream",
     "text": [
      "Epoch 1/40\n",
      "14/14 [==============================] - 2s 47ms/step - loss: 2.0642 - accuracy: 0.5741 - val_loss: 3.3337 - val_accuracy: 0.7351\n",
      "Epoch 2/40\n",
      "14/14 [==============================] - 0s 16ms/step - loss: 1.0056 - accuracy: 0.7928 - val_loss: 3.1489 - val_accuracy: 0.7591\n",
      "Epoch 3/40\n",
      "14/14 [==============================] - 0s 19ms/step - loss: 0.6715 - accuracy: 0.8628 - val_loss: 2.9270 - val_accuracy: 0.7427\n",
      "Epoch 4/40\n",
      "14/14 [==============================] - 0s 17ms/step - loss: 0.4871 - accuracy: 0.8971 - val_loss: 2.7023 - val_accuracy: 0.7524\n",
      "Epoch 5/40\n",
      "14/14 [==============================] - 0s 17ms/step - loss: 0.3522 - accuracy: 0.9290 - val_loss: 2.4475 - val_accuracy: 0.7471\n",
      "Epoch 6/40\n",
      "14/14 [==============================] - 0s 16ms/step - loss: 0.2842 - accuracy: 0.9421 - val_loss: 2.1652 - val_accuracy: 0.7400\n",
      "Epoch 7/40\n",
      "14/14 [==============================] - 0s 18ms/step - loss: 0.2216 - accuracy: 0.9552 - val_loss: 1.9721 - val_accuracy: 0.7493\n",
      "Epoch 8/40\n",
      "14/14 [==============================] - 0s 16ms/step - loss: 0.1884 - accuracy: 0.9584 - val_loss: 1.7221 - val_accuracy: 0.7578\n",
      "Epoch 9/40\n",
      "14/14 [==============================] - 0s 16ms/step - loss: 0.1645 - accuracy: 0.9620 - val_loss: 1.5366 - val_accuracy: 0.7734\n",
      "Epoch 10/40\n",
      "14/14 [==============================] - 0s 16ms/step - loss: 0.1453 - accuracy: 0.9630 - val_loss: 1.3754 - val_accuracy: 0.7867\n",
      "Epoch 11/40\n",
      "14/14 [==============================] - 0s 14ms/step - loss: 0.1344 - accuracy: 0.9618 - val_loss: 1.2208 - val_accuracy: 0.7818\n",
      "Epoch 12/40\n",
      "14/14 [==============================] - 0s 16ms/step - loss: 0.1303 - accuracy: 0.9645 - val_loss: 1.1107 - val_accuracy: 0.7939\n",
      "Epoch 13/40\n",
      "14/14 [==============================] - 0s 15ms/step - loss: 0.1244 - accuracy: 0.9645 - val_loss: 1.0784 - val_accuracy: 0.7778\n",
      "Epoch 14/40\n",
      "14/14 [==============================] - 0s 16ms/step - loss: 0.1168 - accuracy: 0.9645 - val_loss: 0.9679 - val_accuracy: 0.7983\n",
      "Epoch 15/40\n",
      "14/14 [==============================] - 0s 15ms/step - loss: 0.1159 - accuracy: 0.9635 - val_loss: 0.9122 - val_accuracy: 0.7996\n",
      "Epoch 16/40\n",
      "14/14 [==============================] - 0s 15ms/step - loss: 0.1078 - accuracy: 0.9669 - val_loss: 0.9051 - val_accuracy: 0.7996\n",
      "Epoch 17/40\n",
      "14/14 [==============================] - 0s 14ms/step - loss: 0.1050 - accuracy: 0.9656 - val_loss: 0.8846 - val_accuracy: 0.8037\n",
      "Epoch 18/40\n",
      "14/14 [==============================] - 0s 16ms/step - loss: 0.0945 - accuracy: 0.9691 - val_loss: 0.8853 - val_accuracy: 0.8068\n",
      "Epoch 19/40\n",
      "14/14 [==============================] - 0s 16ms/step - loss: 0.0993 - accuracy: 0.9666 - val_loss: 0.9248 - val_accuracy: 0.8010\n",
      "Epoch 20/40\n",
      "14/14 [==============================] - 0s 15ms/step - loss: 0.0889 - accuracy: 0.9684 - val_loss: 0.9047 - val_accuracy: 0.8028\n",
      "Epoch 21/40\n",
      "14/14 [==============================] - 0s 15ms/step - loss: 0.0995 - accuracy: 0.9653 - val_loss: 0.9084 - val_accuracy: 0.8081\n",
      "Epoch 22/40\n",
      "14/14 [==============================] - 0s 15ms/step - loss: 0.0922 - accuracy: 0.9678 - val_loss: 0.9293 - val_accuracy: 0.8112\n",
      "Epoch 23/40\n",
      "14/14 [==============================] - 0s 15ms/step - loss: 0.0900 - accuracy: 0.9690 - val_loss: 0.9272 - val_accuracy: 0.8068\n",
      "Epoch 24/40\n",
      "14/14 [==============================] - 0s 14ms/step - loss: 0.0871 - accuracy: 0.9699 - val_loss: 0.9703 - val_accuracy: 0.8112\n",
      "Epoch 25/40\n",
      "14/14 [==============================] - 0s 16ms/step - loss: 0.0874 - accuracy: 0.9670 - val_loss: 0.9716 - val_accuracy: 0.8112\n",
      "Epoch 26/40\n",
      "14/14 [==============================] - 0s 15ms/step - loss: 0.0922 - accuracy: 0.9666 - val_loss: 0.9838 - val_accuracy: 0.8152\n",
      "Epoch 27/40\n",
      "14/14 [==============================] - 0s 15ms/step - loss: 0.0828 - accuracy: 0.9672 - val_loss: 0.9938 - val_accuracy: 0.8134\n"
     ]
    }
   ],
   "source": [
    "# 문제 2-4: ModelCheckpoint와 EarlyStopping 콜백 함수를 적용하여 모델 학습을 진행합니다.\n",
    "\n",
    "check_point_cb = callbacks.ModelCheckpoint('best_model.h5', \n",
    "                                           save_best_only=True)\n",
    "early_stopping_cb = callbacks.EarlyStopping(patience=10, \n",
    "                                            monitor='val_loss',\n",
    "                                            restore_best_weights=True)\n",
    "history = model.fit(x_train, y_train,\n",
    "            epochs=40,\n",
    "            batch_size=512,\n",
    "            validation_data=(x_val, y_val),\n",
    "            callbacks=[check_point_cb, early_stopping_cb])"
   ]
  },
  {
   "cell_type": "markdown",
   "id": "ebf26745",
   "metadata": {},
   "source": [
    "모델 학습 데이터 시각화"
   ]
  },
  {
   "cell_type": "code",
   "execution_count": 12,
   "id": "37d5b476",
   "metadata": {},
   "outputs": [
    {
     "data": {
      "image/png": "[encoded data removed]",
      "text/plain": [
       "<Figure size 864x360 with 2 Axes>"
      ]
     },
     "metadata": {},
     "output_type": "display_data"
    }
   ],
   "source": [
    "# 학습 히스토리의 `loss`, `val_loss`, `accuracy`, `val_accuracy`를 차트로 시각화합니다.\n",
    "plt.style.use('seaborn-white')\n",
    "\n",
    "history_dict = history.history\n",
    "\n",
    "loss = history_dict['loss']\n",
    "val_loss = history_dict['val_loss']\n",
    "\n",
    "epochs = range(1, len(loss) + 1)\n",
    "fig = plt.figure(figsize=(12, 5))\n",
    "\n",
    "ax1 = fig.add_subplot(1, 2, 1)\n",
    "ax1.plot(epochs, loss, 'b-', label='train_loss')\n",
    "ax1.plot(epochs, val_loss, 'r-', label='val_loss')\n",
    "ax1.set_title('Train and Validation Loss')\n",
    "ax1.set_xlabel('Epochs')\n",
    "ax1.set_ylabel('Loss')\n",
    "ax1.grid()\n",
    "ax1.legend()\n",
    "\n",
    "accuracy = history_dict['accuracy']\n",
    "val_accuracy = history_dict['val_accuracy']\n",
    "\n",
    "ax2 = fig.add_subplot(1, 2, 2)\n",
    "ax2.plot(epochs, accuracy, 'b-', label='train_accuracy')\n",
    "ax2.plot(epochs, val_accuracy, 'r-', label='val_accuracy')\n",
    "ax2.set_title('Train and Validation Accuracy')\n",
    "ax2.set_xlabel('Epochs')\n",
    "ax2.set_ylabel('Accuracy')\n",
    "ax2.grid()\n",
    "ax2.legend()\n",
    "\n",
    "plt.show()"
   ]
  },
  {
   "cell_type": "markdown",
   "id": "a86f38ea",
   "metadata": {},
   "source": [
    "모델 평가 및 예측"
   ]
  },
  {
   "cell_type": "code",
   "execution_count": 13,
   "id": "8da01bf0",
   "metadata": {},
   "outputs": [
    {
     "name": "stdout",
     "output_type": "stream",
     "text": [
      "71/71 [==============================] - 0s 3ms/step - loss: 0.9677 - accuracy: 0.7876\n",
      "[0.9676640629768372, 0.7876224517822266]\n",
      "[[4.8515966e-04 1.6961027e-03 3.6863709e-04 ... 2.0597401e-04\n",
      "  3.1976306e-04 1.0845894e-04]\n",
      " [9.5860157e-03 3.6338665e-02 3.0101480e-02 ... 1.5417749e-02\n",
      "  1.0185255e-03 2.1329543e-02]\n",
      " [3.5297516e-04 9.2754507e-01 4.1060938e-04 ... 9.3589915e-05\n",
      "  2.9988384e-03 1.0727267e-03]\n",
      " ...\n",
      " [7.9569094e-05 3.5537162e-04 1.6409939e-04 ... 2.4519984e-05\n",
      "  2.9052464e-05 8.7495886e-05]\n",
      " [4.0674424e-03 1.0690565e-02 2.2392739e-03 ... 6.1750493e-04\n",
      "  8.3009148e-04 1.1084792e-03]\n",
      " [9.8708728e-03 2.3507887e-01 2.5806172e-02 ... 2.5744599e-03\n",
      "  1.7192479e-03 9.3624629e-03]]\n"
     ]
    }
   ],
   "source": [
    "# 문제 1-4: 테스트 데이터셋을 이용해 모델을 평가합니다.\n",
    "# [[YOUR CODE]]\n",
    "# 평가\n",
    "ac = model.evaluate(x_test, y_test)\n",
    "print(ac) \n",
    "\n",
    "#예측\n",
    "y_pred= model.predict(x_test)\n",
    "print(y_pred)"
   ]
  },
  {
   "cell_type": "code",
   "execution_count": null,
   "id": "5acad489",
   "metadata": {},
   "outputs": [],
   "source": []
  }
 ],
 "metadata": {
  "kernelspec": {
   "display_name": "Python 3 (ipykernel)",
   "language": "python",
   "name": "python3"
  },
  "language_info": {
   "codemirror_mode": {
    "name": "ipython",
    "version": 3
   },
   "file_extension": ".py",
   "mimetype": "text/x-python",
   "name": "python",
   "nbconvert_exporter": "python",
   "pygments_lexer": "ipython3",
   "version": "3.9.7"
  }
 },
 "nbformat": 4,
 "nbformat_minor": 5
}
